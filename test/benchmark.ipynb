{
 "cells": [
  {
   "cell_type": "markdown",
   "metadata": {},
   "source": [
    "# Benchmarking foldseek ctranslate2 branch\n",
    "Apply the [foldseek papaer](https://doi.org/10.1038/s41587-023-01773-0) benchmark using the `ctranslate2` branch.\n",
    "The paper uses the [SCOPe](https://wwwuser.gwdg.de/~compbiol/foldseek/scop40pdb.tar.gz) 40% sequence redundance database.\n",
    "However, we don't download the data here, but reuse existing `.pdb` data on the luster at `/home/sukhwan/foldseek-analysis/scope_pdb`."
   ]
  },
  {
   "cell_type": "code",
   "execution_count": null,
   "metadata": {
    "vscode": {
     "languageId": "shellscript"
    }
   },
   "outputs": [],
   "source": [
    "mkdir -p test/data/scope\n",
    "ln -s /home/sukhwan/foldseek-analysis/scope_pdb test/data/scope/pdb"
   ]
  },
  {
   "cell_type": "code",
   "execution_count": null,
   "metadata": {
    "vscode": {
     "languageId": "shellscript"
    }
   },
   "outputs": [],
   "source": [
    "# create foldseek db\n",
    "srun -c 32 -t 20-0 --pty /bin/bash\n",
    "DB_PATH=test/dbs/scope/\n",
    "SCOPE_DATA=test/data/scope/pdb\n",
    "mkdir -p $DB_PATH\n",
    "# conda activate prostt5\n",
    "# foldseek createdb --mask-bfactor-threshold -10000 $SCOPE_DATA $DB_PATH/scope_full\n",
    "foldseek createdb $SCOPE_DATA $DB_PATH/scope_full\n",
    "\n",
    "foldseek convert2fasta $DB_PATH/scope_full $(dirname $SCOPE_DATA)/scope_full.aa.fasta"
   ]
  },
  {
   "cell_type": "code",
   "execution_count": null,
   "metadata": {
    "vscode": {
     "languageId": "shellscript"
    }
   },
   "outputs": [],
   "source": [
    "# create foldseek db from amino acid fasta using ProstT5\n",
    "srun -p gpu --gres=gpu:3 -c 9 -t 20-0 --pty /bin/bash\n",
    "MODEL_PATH=/home/sukhwan/foldseek_ctranslate/foldseek/weights/model\n",
    "DB_PATH=test/dbs/scope\n",
    "\n",
    "for SPLIT_LENGTH in 256 512 1024; do\n",
    "# select subset of scope that is affected by splitting\n",
    "awk -v s=$SPLIT_LENGTH '$3 > s {print $1;}' $DB_PATH/scope_full.index > $DB_PATH/scope_gt${SPLIT_LENGTH}_dbkeys.tsv;\n",
    "\n",
    "# subset dbs\n",
    "foldseek createsubdb $DB_PATH/scope_gt${SPLIT_LENGTH}_dbkeys.tsv $DB_PATH/scope_full $DB_PATH/scope_gt${SPLIT_LENGTH};\n",
    "foldseek createsubdb $DB_PATH/scope_gt${SPLIT_LENGTH}_dbkeys.tsv $DB_PATH/scope_full_ss $DB_PATH/scope_gt${SPLIT_LENGTH}_ss;\n",
    "foldseek createsubdb $DB_PATH/scope_gt${SPLIT_LENGTH}_dbkeys.tsv $DB_PATH/scope_full_ca $DB_PATH/scope_gt${SPLIT_LENGTH}_ca;\n",
    "\n",
    "# create aa.fasta\n",
    "foldseek convert2fasta $DB_PATH/scope_gt${SPLIT_LENGTH} $DB_PATH/scope_gt${SPLIT_LENGTH}.aa.fasta\n",
    "\n",
    "# cpu-build/src/foldseek createdb test/data/scope/scope_full.aa.fasta test/dbs/scope/scope_prostt5 --prostt5-model $MODEL_PATH\n",
    "done\n",
    "CUDA_VISIBLE_DEVICES=0 cuda-build/src/foldseek createdb $DB_PATH/scope_gt256.aa.fasta $DB_PATH/scope_pt5_gt256 --prostt5-model $MODEL_PATH --gpu 1 --prostt5-split-length 256 --threads 3 &\n",
    "CUDA_VISIBLE_DEVICES=1 cuda-build/src/foldseek createdb $DB_PATH/scope_gt512.aa.fasta $DB_PATH/scope_pt5_gt512 --prostt5-model $MODEL_PATH --gpu 1 --prostt5-split-length 512 --threads 3 &\n",
    "CUDA_VISIBLE_DEVICES=2 cuda-build/src/foldseek createdb $DB_PATH/scope_gt1024.aa.fasta $DB_PATH/scope_pt5_gt1024 --prostt5-model $MODEL_PATH --gpu 1 --prostt5-split-length 1024 --threads 3 &\n",
    "wait\n",
    "\n",
    "exit"
   ]
  },
  {
   "cell_type": "code",
   "execution_count": null,
   "metadata": {
    "vscode": {
     "languageId": "shellscript"
    }
   },
   "outputs": [],
   "source": [
    "# create subsets of lookup file\n",
    "for SPLIT_LENGTH in 256 512 1024\n",
    "\n",
    "#TODO"
   ]
  },
  {
   "cell_type": "code",
   "execution_count": null,
   "metadata": {
    "vscode": {
     "languageId": "shellscript"
    }
   },
   "outputs": [],
   "source": [
    "# conda activate prostt5\n",
    "srun -c 64 -t 20-0 --pty /bin/bash\n",
    "DB_PATH=test/dbs/scope/\n",
    "mkdir -p $DB_PATH/tmp\n",
    "\n",
    "# alternatively clone git@github.com:steineggerlab/foldseek-analysis.git\n",
    "AWK_SCRIPT=../../../consensus3Di/lib/foldseek-analysis/scopbenchmark/scripts/bench.noselfhit.awk\n",
    "LOOKUP_FILE=../../../consensus3Di/lib/foldseek-analysis/scopbenchmark/data/scop_lookup.fix.tsv\n",
    "NO_SPLIT_ROCX_FILE=test/data/benchmark/ctranslate2.scope.no_splitting.rocx\n",
    "\n",
    "for SPLIT_LENGTH in 256 512 1024; do\n",
    "foldseek search $DB_PATH/scope_pt5_gt${SPLIT_LENGTH} $DB_PATH/scope_full $DB_PATH/aln_scope_gt${SPLIT_LENGTH}_benchmark $DB_PATH/tmp/ -s 9.5 --max-seqs 2000 -e 10\n",
    "foldseek convertalis $DB_PATH/scope_pt5_gt${SPLIT_LENGTH} $DB_PATH/scope_full $DB_PATH/aln_scope_gt${SPLIT_LENGTH}_benchmark $DB_PATH/aln_scope_gt${SPLIT_LENGTH}_benchmark.m8\n",
    "\n",
    "for SPLIT_LENGTH_2 in 256 512 1024; do\n",
    "# roc performance metrics\n",
    "SPLIT_ROCX_FILE=test/data/benchmark/ctranslate2.scope.gt${SPLIT_LENGTH}.rocx\n",
    "$AWK_SCRIPT $LOOKUP_FILE <(cat $DB_PATH/aln_scope_gt${SPLIT_LENGTH}_benchmark.m8 | sed -E 's|.pdb||g') > $SPLIT_ROCX_FILE\n",
    "done\n",
    "\n",
    "# filter sequences affected from splitting and combine the data from unaffected sequences form $NO_SPLIT_ROCX_FILE and affected sequences from $SPLIT_ROCX_FILE\n",
    "SPLIT_MERGED_ROCX_FILE=$(dirname $SPLIT_ROCX_FILE)/$(basename $SPLIT_ROCX_FILE .rocx).merged.rocx\n",
    "awk 'NR == FNR { f[$1]=$0; next } !($1 in f) { print; }' $SPLIT_ROCX_FILE $NO_SPLIT_ROCX_FILE | cat - $SPLIT_ROCX_FILE > $SPLIT_MERGED_ROCX_FILE\n",
    "\n",
    "# compute roc values for family, superfamily and fold\n",
    "awk '{ famsum+=$3; supfamsum+=$4; foldsum+=$5}END{print famsum/NR,supfamsum/NR,foldsum/NR}' $SPLIT_MERGED_ROCX_FILE > $SPLIT_MERGED_ROCX_FILE.values\n",
    "done\n",
    "\n",
    "# No splitting ROC values (Fam, Superfam, Fold)\n",
    "# 0.841243 0.444564 0.0849547\n",
    "\n",
    "exit"
   ]
  },
  {
   "cell_type": "code",
   "execution_count": null,
   "metadata": {
    "vscode": {
     "languageId": "shellscript"
    }
   },
   "outputs": [],
   "source": [
    "# TODO: merge .rocx files with test/data/benchmark.ctranslate2.splitting.rocx, which holds the values for sequences unaffected by splitting\n",
    "\n",
    "for SPLIT_LENGTH in 256 512 1024; do\n",
    "SPLIT_ROCX_FILE=test/data/benchmark/ctranslate2.scope.gt${SPLIT_LENGTH}.rocx\n",
    "SPLIT_MERGED_ROCX_FILE=$(dirname $SPLIT_ROCX_FILE)/$(basename $SPLIT_ROCX_FILE .rocx).merged.rocx\n",
    "\n",
    "# filter sequences affected from splitting and combine the data from unaffected sequences form $NO_SPLIT_ROCX_FILE and affected sequences from $SPLIT_ROCX_FILE\n",
    "awk 'NR == FNR { f[$1]=$0; next } !($1 in f) { print; }' $SPLIT_ROCX_FILE $NO_SPLIT_ROCX_FILE | cat - $SPLIT_ROCX_FILE > $SPLIT_MERGED_ROCX_FILE\n",
    "\n",
    "# compute roc values for family, superfamily and fold\n",
    "awk '{ famsum+=$3; supfamsum+=$4; foldsum+=$5}END{print famsum/NR,supfamsum/NR,foldsum/NR}' $SPLIT_MERGED_ROCX_FILE\n",
    "done\n",
    "\n",
    "# 0.304635 0.162114 0.028663\n",
    "# 0.307835 0.167328 0.0309218\n",
    "# 0.307732 0.167367 0.0309591\n"
   ]
  }
 ],
 "metadata": {
  "language_info": {
   "name": "python"
  }
 },
 "nbformat": 4,
 "nbformat_minor": 2
}
